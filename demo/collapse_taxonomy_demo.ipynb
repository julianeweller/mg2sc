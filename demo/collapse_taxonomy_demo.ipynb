{
 "cells": [
  {
   "cell_type": "code",
   "execution_count": 1,
   "id": "crazy-trace",
   "metadata": {},
   "outputs": [],
   "source": [
    "import scanpy as sc\n",
    "from collapse_taxonomy import collapse_taxonomy"
   ]
  },
  {
   "cell_type": "markdown",
   "id": "minimal-governor",
   "metadata": {},
   "source": [
    "Place `collapse_taxonomy.py` (from GitHub) in the same folder as this notebook for maximum ease of loading.\n",
    "\n",
    "Import a sample piece of `mg2sc` output. Examine its variable space. That's a bunch of stuff!"
   ]
  },
  {
   "cell_type": "code",
   "execution_count": 2,
   "id": "intensive-plaintiff",
   "metadata": {},
   "outputs": [
    {
     "name": "stdout",
     "output_type": "stream",
     "text": [
      "(549742, 5647)\n",
      "Index(['Homo sapiens', 'unclassified',\n",
      "       'Severe acute respiratory syndrome coronavirus 2', 'Paracoccus',\n",
      "       'Paracoccus sp. Arc7-R13',\n",
      "       'Xanthomonas euvesicatoria pv. alfalfae CFBP 3836',\n",
      "       'cellular organisms', 'Enterococcus wangshanyuanii',\n",
      "       'Bacillus megaterium', 'root'],\n",
      "      dtype='object')\n"
     ]
    }
   ],
   "source": [
    "adata = sc.read_10x_mtx('counts')\n",
    "print(adata.shape)\n",
    "print(adata.var_names[:10])"
   ]
  },
  {
   "cell_type": "markdown",
   "id": "rough-first",
   "metadata": {},
   "source": [
    "Kraken has a hierarchy which can be used to collapse this to something a little more general. `mg2sc` stores this hierarchy with the counts it outputs, let's use it to turn this count matrix to families as an example.\n",
    "\n",
    "For details on possible levels of hierarchy to collapse to, consult the `collapse_taxonomy()` docstring."
   ]
  },
  {
   "cell_type": "code",
   "execution_count": 3,
   "id": "agricultural-night",
   "metadata": {},
   "outputs": [
    {
     "name": "stdout",
     "output_type": "stream",
     "text": [
      "(549742, 440)\n",
      "Index(['Acaryochloridaceae', 'Acetobacteraceae', 'Acholeplasmataceae',\n",
      "       'Acidaminococcaceae', 'Acidiferrobacteraceae', 'Acidilobaceae',\n",
      "       'Acidimicrobiaceae', 'Acidithiobacillaceae', 'Acidobacteriaceae',\n",
      "       'Acidothermaceae'],\n",
      "      dtype='object')\n"
     ]
    }
   ],
   "source": [
    "bdata = collapse_taxonomy(adata, 'counts/hierarchy.txt', 'family')\n",
    "print(bdata.shape)\n",
    "print(bdata.var_names[:10])"
   ]
  }
 ],
 "metadata": {
  "kernelspec": {
   "display_name": "teichlab",
   "language": "python",
   "name": "teichlab"
  },
  "language_info": {
   "codemirror_mode": {
    "name": "ipython",
    "version": 3
   },
   "file_extension": ".py",
   "mimetype": "text/x-python",
   "name": "python",
   "nbconvert_exporter": "python",
   "pygments_lexer": "ipython3",
   "version": "3.8.8"
  }
 },
 "nbformat": 4,
 "nbformat_minor": 5
}
